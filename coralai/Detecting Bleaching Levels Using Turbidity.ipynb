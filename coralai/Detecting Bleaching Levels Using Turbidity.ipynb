import seaborn as sns
import pandas as pd
import matplotlib.pyplot as plt

dataset = pd.read_csv('Bleaching.csv')
# removed every value that is 'nd'
dataset = dataset[dataset['Turbidity'] != 'nd']
dataset = dataset[dataset['Percent_Bleaching'] != 'nd']
dataset = dataset[dataset['Temperature_Kelvin'] != 'nd']

x = dataset.drop(columns=['Temperature_Kelvin','Percent_Bleaching'])
y = dataset.drop(columns=['Temperature_Kelvin', 'Turbidity'])
z = dataset.drop(columns=['Percent_Bleaching', 'Turbidity'])

print(x.size)
print(y.size)

# converts to floats
for value in x['Turbidity']:
  value = float(value)

for value in y['Percent_Bleaching']:
  value = float(value)

print(x.size)
print(y.size)
print(z.size)

X = x

# Splitting the dataset into training and testing sets
X_train, X_test, y_train, y_test = train_test_split(X, y, test_size=0.2, random_state=42)

# Creating a linear regression model
model = LinearRegression()

# Fitting the model on the training data
model.fit(X_train, y_train)

# Making predictions on the test data
y_pred = model.predict(X_test)

# Calculating Mean Squared Error (MSE) to evaluate the model
mse = mean_squared_error(y_test, y_pred)

print(f"Mean Squared Error: {mse}")

from sklearn.model_selection import train_test_split

# we will split the cancer csv to include training and testing data.
# 20% of the csv will be test data, that the model has never seen before
x_train, x_test, y_train, y_test = train_test_split(x, y, test_size=0.2, random_state=23)

#random_state makes sure values are randomly added to test/train datasets

plt.scatter(x['Turbidity'], y['Percent_Bleaching'])
plt.xlabel('Turbidity')
plt.ylabel('Percent_Bleaching')

import numpy as np
x_train = np.array(x_train).reshape(-1, 1)
x_test = np.array(x_test).reshape(-1, 1)
from sklearn.linear_model import LinearRegression
lr = LinearRegression()
import numpy as np
x_train = np.array(x_train).reshape(-1, 1)

x_test = np.array(x_test).reshape(-1, 1)

from sklearn.linear_model import LinearRegression
lr = LinearRegression()
lr.fit(x_train, y_train)

y_pred_train = lr.predict(x_train)
y_pred_test = lr.predict(x_test)

y_pred_test.reshape(-1, 1)
x_test.reshape(-1, 1)

result_df = pd.DataFrame({'Turbidity': x_test, 'Predicted_Bleaching': y_pred_test})

  
