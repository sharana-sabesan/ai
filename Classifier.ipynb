{
  "nbformat": 4,
  "nbformat_minor": 0,
  "metadata": {
    "colab": {
      "provenance": []
    },
    "kernelspec": {
      "name": "python3",
      "display_name": "Python 3"
    }
  },
  "cells": [
    {
      "cell_type": "code",
      "metadata": {
        "id": "gYk-xfexXda-",
        "outputId": "d236ba9d-f165-42e7-b14b-2a7f552da17e",
        "colab": {
          "base_uri": "https://localhost:8080/",
          "height": 102
        }
      },
      "source": [
        "%tensorflow_version 2.x  # this line is not required unless you are in a notebook"
      ],
      "execution_count": null,
      "outputs": [
        {
          "output_type": "stream",
          "text": [
            "`%tensorflow_version` only switches the major version: 1.x or 2.x.\n",
            "You set: `2.x  # this line is not required unless you are in a notebook`. This will be interpreted as: `2.x`.\n",
            "\n",
            "\n",
            "TensorFlow is already loaded. Please restart the runtime to change versions.\n"
          ],
          "name": "stdout"
        }
      ]
    },
    {
      "cell_type": "code",
      "metadata": {
        "id": "CdTEvvawXey-"
      },
      "source": [
        "from __future__ import absolute_import, division, print_function, unicode_literals\n",
        "\n",
        "\n",
        "import tensorflow as tf\n",
        "\n",
        "import pandas as pd"
      ],
      "execution_count": null,
      "outputs": []
    },
    {
      "cell_type": "code",
      "metadata": {
        "id": "RpBRndyoXjMg"
      },
      "source": [
        "CSV_COLUMN_NAMES = ['SepalLength', 'SepalWidth', 'PetalLength', 'PetalWidth', 'Species']\n",
        "SPECIES = ['Setosa', 'Versicolor', 'Virginica']\n",
        "# Lets define some constants to help us later on"
      ],
      "execution_count": null,
      "outputs": []
    },
    {
      "cell_type": "code",
      "metadata": {
        "id": "0YY2DV92XkSe"
      },
      "source": [
        "train_path = tf.keras.utils.get_file(\n",
        "    \"iris_training.csv\", \"https://storage.googleapis.com/download.tensorflow.org/data/iris_training.csv\")\n",
        "test_path = tf.keras.utils.get_file(\n",
        "    \"iris_test.csv\", \"https://storage.googleapis.com/download.tensorflow.org/data/iris_test.csv\")\n",
        "\n",
        "train = pd.read_csv(train_path, names=CSV_COLUMN_NAMES, header=0)\n",
        "test = pd.read_csv(test_path, names=CSV_COLUMN_NAMES, header=0)\n",
        "# Here we use keras (a module inside of TensorFlow) to grab our datasets and read them into a pandas dataframe"
      ],
      "execution_count": null,
      "outputs": []
    },
    {
      "cell_type": "code",
      "metadata": {
        "id": "blERooj5XotZ",
        "outputId": "bd3edf70-5836-4990-e1fc-47cc44d6ed50",
        "colab": {
          "base_uri": "https://localhost:8080/",
          "height": 204
        }
      },
      "source": [
        "train.head()"
      ],
      "execution_count": null,
      "outputs": [
        {
          "output_type": "execute_result",
          "data": {
            "text/html": [
              "<div>\n",
              "<style scoped>\n",
              "    .dataframe tbody tr th:only-of-type {\n",
              "        vertical-align: middle;\n",
              "    }\n",
              "\n",
              "    .dataframe tbody tr th {\n",
              "        vertical-align: top;\n",
              "    }\n",
              "\n",
              "    .dataframe thead th {\n",
              "        text-align: right;\n",
              "    }\n",
              "</style>\n",
              "<table border=\"1\" class=\"dataframe\">\n",
              "  <thead>\n",
              "    <tr style=\"text-align: right;\">\n",
              "      <th></th>\n",
              "      <th>SepalLength</th>\n",
              "      <th>SepalWidth</th>\n",
              "      <th>PetalLength</th>\n",
              "      <th>PetalWidth</th>\n",
              "      <th>Species</th>\n",
              "    </tr>\n",
              "  </thead>\n",
              "  <tbody>\n",
              "    <tr>\n",
              "      <th>0</th>\n",
              "      <td>6.4</td>\n",
              "      <td>2.8</td>\n",
              "      <td>5.6</td>\n",
              "      <td>2.2</td>\n",
              "      <td>2</td>\n",
              "    </tr>\n",
              "    <tr>\n",
              "      <th>1</th>\n",
              "      <td>5.0</td>\n",
              "      <td>2.3</td>\n",
              "      <td>3.3</td>\n",
              "      <td>1.0</td>\n",
              "      <td>1</td>\n",
              "    </tr>\n",
              "    <tr>\n",
              "      <th>2</th>\n",
              "      <td>4.9</td>\n",
              "      <td>2.5</td>\n",
              "      <td>4.5</td>\n",
              "      <td>1.7</td>\n",
              "      <td>2</td>\n",
              "    </tr>\n",
              "    <tr>\n",
              "      <th>3</th>\n",
              "      <td>4.9</td>\n",
              "      <td>3.1</td>\n",
              "      <td>1.5</td>\n",
              "      <td>0.1</td>\n",
              "      <td>0</td>\n",
              "    </tr>\n",
              "    <tr>\n",
              "      <th>4</th>\n",
              "      <td>5.7</td>\n",
              "      <td>3.8</td>\n",
              "      <td>1.7</td>\n",
              "      <td>0.3</td>\n",
              "      <td>0</td>\n",
              "    </tr>\n",
              "  </tbody>\n",
              "</table>\n",
              "</div>"
            ],
            "text/plain": [
              "   SepalLength  SepalWidth  PetalLength  PetalWidth  Species\n",
              "0          6.4         2.8          5.6         2.2        2\n",
              "1          5.0         2.3          3.3         1.0        1\n",
              "2          4.9         2.5          4.5         1.7        2\n",
              "3          4.9         3.1          1.5         0.1        0\n",
              "4          5.7         3.8          1.7         0.3        0"
            ]
          },
          "metadata": {
            "tags": []
          },
          "execution_count": 14
        }
      ]
    },
    {
      "cell_type": "code",
      "metadata": {
        "id": "eytUCqBLXrmw",
        "outputId": "8928df0a-2bf1-4daf-df72-8e8e86200031",
        "colab": {
          "base_uri": "https://localhost:8080/",
          "height": 204
        }
      },
      "source": [
        "train_y = train.pop('Species')\n",
        "test_y = test.pop('Species')\n",
        "train.head() # the species column is now gone"
      ],
      "execution_count": null,
      "outputs": [
        {
          "output_type": "execute_result",
          "data": {
            "text/html": [
              "<div>\n",
              "<style scoped>\n",
              "    .dataframe tbody tr th:only-of-type {\n",
              "        vertical-align: middle;\n",
              "    }\n",
              "\n",
              "    .dataframe tbody tr th {\n",
              "        vertical-align: top;\n",
              "    }\n",
              "\n",
              "    .dataframe thead th {\n",
              "        text-align: right;\n",
              "    }\n",
              "</style>\n",
              "<table border=\"1\" class=\"dataframe\">\n",
              "  <thead>\n",
              "    <tr style=\"text-align: right;\">\n",
              "      <th></th>\n",
              "      <th>SepalLength</th>\n",
              "      <th>SepalWidth</th>\n",
              "      <th>PetalLength</th>\n",
              "      <th>PetalWidth</th>\n",
              "    </tr>\n",
              "  </thead>\n",
              "  <tbody>\n",
              "    <tr>\n",
              "      <th>0</th>\n",
              "      <td>6.4</td>\n",
              "      <td>2.8</td>\n",
              "      <td>5.6</td>\n",
              "      <td>2.2</td>\n",
              "    </tr>\n",
              "    <tr>\n",
              "      <th>1</th>\n",
              "      <td>5.0</td>\n",
              "      <td>2.3</td>\n",
              "      <td>3.3</td>\n",
              "      <td>1.0</td>\n",
              "    </tr>\n",
              "    <tr>\n",
              "      <th>2</th>\n",
              "      <td>4.9</td>\n",
              "      <td>2.5</td>\n",
              "      <td>4.5</td>\n",
              "      <td>1.7</td>\n",
              "    </tr>\n",
              "    <tr>\n",
              "      <th>3</th>\n",
              "      <td>4.9</td>\n",
              "      <td>3.1</td>\n",
              "      <td>1.5</td>\n",
              "      <td>0.1</td>\n",
              "    </tr>\n",
              "    <tr>\n",
              "      <th>4</th>\n",
              "      <td>5.7</td>\n",
              "      <td>3.8</td>\n",
              "      <td>1.7</td>\n",
              "      <td>0.3</td>\n",
              "    </tr>\n",
              "  </tbody>\n",
              "</table>\n",
              "</div>"
            ],
            "text/plain": [
              "   SepalLength  SepalWidth  PetalLength  PetalWidth\n",
              "0          6.4         2.8          5.6         2.2\n",
              "1          5.0         2.3          3.3         1.0\n",
              "2          4.9         2.5          4.5         1.7\n",
              "3          4.9         3.1          1.5         0.1\n",
              "4          5.7         3.8          1.7         0.3"
            ]
          },
          "metadata": {
            "tags": []
          },
          "execution_count": 15
        }
      ]
    },
    {
      "cell_type": "code",
      "metadata": {
        "id": "MPn-q5JiXuwv",
        "outputId": "1661158d-332c-4e26-f5b6-6db0f54eb90b",
        "colab": {
          "base_uri": "https://localhost:8080/",
          "height": 34
        }
      },
      "source": [
        "train.shape  # we have 120 entires with 4 features"
      ],
      "execution_count": null,
      "outputs": [
        {
          "output_type": "execute_result",
          "data": {
            "text/plain": [
              "(120, 4)"
            ]
          },
          "metadata": {
            "tags": []
          },
          "execution_count": 16
        }
      ]
    },
    {
      "cell_type": "code",
      "metadata": {
        "id": "b2X2XfjQXyFV"
      },
      "source": [
        "def input_fn(features, labels, training=True, batch_size=256):\n",
        "    # Convert the inputs to a Dataset.\n",
        "    dataset = tf.data.Dataset.from_tensor_slices((dict(features), labels))\n",
        "\n",
        "    # Shuffle and repeat if you are in training mode.\n",
        "    if training:\n",
        "        dataset = dataset.shuffle(1000).repeat()\n",
        "\n",
        "    return dataset.batch(batch_size)"
      ],
      "execution_count": null,
      "outputs": []
    },
    {
      "cell_type": "code",
      "metadata": {
        "id": "eWPEW_hxYdNe",
        "outputId": "7c1e65a7-3267-40f5-e490-f2878b990730",
        "colab": {
          "base_uri": "https://localhost:8080/",
          "height": 54
        }
      },
      "source": [
        "# Feature columns describe how to use the input.\n",
        "my_feature_columns = []\n",
        "for key in train.keys(): #train.keys() gives us all the columns\n",
        "    my_feature_columns.append(tf.feature_column.numeric_column(key=key))\n",
        "print(my_feature_columns)"
      ],
      "execution_count": null,
      "outputs": [
        {
          "output_type": "stream",
          "text": [
            "[NumericColumn(key='SepalLength', shape=(1,), default_value=None, dtype=tf.float32, normalizer_fn=None), NumericColumn(key='SepalWidth', shape=(1,), default_value=None, dtype=tf.float32, normalizer_fn=None), NumericColumn(key='PetalLength', shape=(1,), default_value=None, dtype=tf.float32, normalizer_fn=None), NumericColumn(key='PetalWidth', shape=(1,), default_value=None, dtype=tf.float32, normalizer_fn=None)]\n"
          ],
          "name": "stdout"
        }
      ]
    },
    {
      "cell_type": "code",
      "metadata": {
        "id": "MpQviTiPZv4w",
        "outputId": "81a14bf5-0d67-40a7-e370-1e28ad45163e",
        "colab": {
          "base_uri": "https://localhost:8080/",
          "height": 190
        }
      },
      "source": [
        "# Build a DNN with 2 hidden layers with 30 and 10 hidden nodes each.\n",
        "classifier = tf.estimator.DNNClassifier(\n",
        "    feature_columns=my_feature_columns,\n",
        "    # Two hidden layers of 30 and 10 nodes respectively.\n",
        "    hidden_units=[30, 10],\n",
        "    # The model must choose between 3 classes.\n",
        "    n_classes=3)"
      ],
      "execution_count": null,
      "outputs": [
        {
          "output_type": "stream",
          "text": [
            "INFO:tensorflow:Using default config.\n",
            "WARNING:tensorflow:Using temporary folder as model directory: /tmp/tmp1oxhvfx9\n",
            "INFO:tensorflow:Using config: {'_model_dir': '/tmp/tmp1oxhvfx9', '_tf_random_seed': None, '_save_summary_steps': 100, '_save_checkpoints_steps': None, '_save_checkpoints_secs': 600, '_session_config': allow_soft_placement: true\n",
            "graph_options {\n",
            "  rewrite_options {\n",
            "    meta_optimizer_iterations: ONE\n",
            "  }\n",
            "}\n",
            ", '_keep_checkpoint_max': 5, '_keep_checkpoint_every_n_hours': 10000, '_log_step_count_steps': 100, '_train_distribute': None, '_device_fn': None, '_protocol': None, '_eval_distribute': None, '_experimental_distribute': None, '_experimental_max_worker_delay_secs': None, '_session_creation_timeout_secs': 7200, '_service': None, '_cluster_spec': ClusterSpec({}), '_task_type': 'worker', '_task_id': 0, '_global_id_in_cluster': 0, '_master': '', '_evaluation_master': '', '_is_chief': True, '_num_ps_replicas': 0, '_num_worker_replicas': 1}\n"
          ],
          "name": "stdout"
        }
      ]
    },
    {
      "cell_type": "code",
      "metadata": {
        "id": "ZuTlEtC7Zzr5",
        "outputId": "d1b60cbd-b0bd-47d5-e509-0986d5e3e32f",
        "colab": {
          "base_uri": "https://localhost:8080/",
          "height": 1000
        }
      },
      "source": [
        "\"\"\"\n",
        "lambda is an anonymous function that can be defined in one line. For example:\n",
        "\n",
        "x = lambda: print(\"Hii!\")\n",
        "x()\n",
        "\"\"\"\n",
        "classifier.train(\n",
        "    input_fn=lambda: input_fn(train, train_y, training=True),\n",
        "    steps=5000)\n",
        "# We include a lambda to avoid creating an inner function previously"
      ],
      "execution_count": null,
      "outputs": [
        {
          "output_type": "stream",
          "text": [
            "WARNING:tensorflow:From /usr/local/lib/python3.6/dist-packages/tensorflow/python/training/training_util.py:236: Variable.initialized_value (from tensorflow.python.ops.variables) is deprecated and will be removed in a future version.\n",
            "Instructions for updating:\n",
            "Use Variable.read_value. Variables in 2.X are initialized automatically both in eager and graph (inside tf.defun) contexts.\n",
            "INFO:tensorflow:Calling model_fn.\n",
            "WARNING:tensorflow:Layer dnn is casting an input tensor from dtype float64 to the layer's dtype of float32, which is new behavior in TensorFlow 2.  The layer has dtype float32 because its dtype defaults to floatx.\n",
            "\n",
            "If you intended to run this layer in float32, you can safely ignore this warning. If in doubt, this warning is likely only an issue if you are porting a TensorFlow 1.X model to TensorFlow 2.\n",
            "\n",
            "To change all layers to have dtype float64 by default, call `tf.keras.backend.set_floatx('float64')`. To change just this layer, pass dtype='float64' to the layer constructor. If you are the author of this layer, you can disable autocasting by passing autocast=False to the base Layer constructor.\n",
            "\n",
            "WARNING:tensorflow:From /usr/local/lib/python3.6/dist-packages/tensorflow/python/keras/optimizer_v2/adagrad.py:83: calling Constant.__init__ (from tensorflow.python.ops.init_ops) with dtype is deprecated and will be removed in a future version.\n",
            "Instructions for updating:\n",
            "Call initializer instance with the dtype argument instead of passing it to the constructor\n",
            "INFO:tensorflow:Done calling model_fn.\n",
            "INFO:tensorflow:Create CheckpointSaverHook.\n",
            "INFO:tensorflow:Graph was finalized.\n",
            "INFO:tensorflow:Running local_init_op.\n",
            "INFO:tensorflow:Done running local_init_op.\n",
            "INFO:tensorflow:Calling checkpoint listeners before saving checkpoint 0...\n",
            "INFO:tensorflow:Saving checkpoints for 0 into /tmp/tmp1oxhvfx9/model.ckpt.\n",
            "INFO:tensorflow:Calling checkpoint listeners after saving checkpoint 0...\n",
            "INFO:tensorflow:loss = 1.0794661, step = 0\n",
            "INFO:tensorflow:global_step/sec: 505.599\n",
            "INFO:tensorflow:loss = 0.9732239, step = 100 (0.201 sec)\n",
            "INFO:tensorflow:global_step/sec: 623.35\n",
            "INFO:tensorflow:loss = 0.91754675, step = 200 (0.159 sec)\n",
            "INFO:tensorflow:global_step/sec: 611.936\n",
            "INFO:tensorflow:loss = 0.90973943, step = 300 (0.163 sec)\n",
            "INFO:tensorflow:global_step/sec: 514.233\n",
            "INFO:tensorflow:loss = 0.8877049, step = 400 (0.195 sec)\n",
            "INFO:tensorflow:global_step/sec: 600.433\n",
            "INFO:tensorflow:loss = 0.879926, step = 500 (0.166 sec)\n",
            "INFO:tensorflow:global_step/sec: 613.707\n",
            "INFO:tensorflow:loss = 0.86414856, step = 600 (0.164 sec)\n",
            "INFO:tensorflow:global_step/sec: 602.515\n",
            "INFO:tensorflow:loss = 0.845283, step = 700 (0.167 sec)\n",
            "INFO:tensorflow:global_step/sec: 568.721\n",
            "INFO:tensorflow:loss = 0.8394835, step = 800 (0.177 sec)\n",
            "INFO:tensorflow:global_step/sec: 555.43\n",
            "INFO:tensorflow:loss = 0.8317005, step = 900 (0.181 sec)\n",
            "INFO:tensorflow:global_step/sec: 496.581\n",
            "INFO:tensorflow:loss = 0.80010825, step = 1000 (0.200 sec)\n",
            "INFO:tensorflow:global_step/sec: 535.454\n",
            "INFO:tensorflow:loss = 0.79812527, step = 1100 (0.187 sec)\n",
            "INFO:tensorflow:global_step/sec: 553.718\n",
            "INFO:tensorflow:loss = 0.79289573, step = 1200 (0.178 sec)\n",
            "INFO:tensorflow:global_step/sec: 584.996\n",
            "INFO:tensorflow:loss = 0.7889609, step = 1300 (0.170 sec)\n",
            "INFO:tensorflow:global_step/sec: 624.26\n",
            "INFO:tensorflow:loss = 0.77848685, step = 1400 (0.160 sec)\n",
            "INFO:tensorflow:global_step/sec: 615.725\n",
            "INFO:tensorflow:loss = 0.75747526, step = 1500 (0.164 sec)\n",
            "INFO:tensorflow:global_step/sec: 626.021\n",
            "INFO:tensorflow:loss = 0.7402584, step = 1600 (0.158 sec)\n",
            "INFO:tensorflow:global_step/sec: 545.23\n",
            "INFO:tensorflow:loss = 0.7391235, step = 1700 (0.186 sec)\n",
            "INFO:tensorflow:global_step/sec: 615.272\n",
            "INFO:tensorflow:loss = 0.7275059, step = 1800 (0.162 sec)\n",
            "INFO:tensorflow:global_step/sec: 650.034\n",
            "INFO:tensorflow:loss = 0.7209766, step = 1900 (0.152 sec)\n",
            "INFO:tensorflow:global_step/sec: 637.175\n",
            "INFO:tensorflow:loss = 0.7091531, step = 2000 (0.157 sec)\n",
            "INFO:tensorflow:global_step/sec: 574.741\n",
            "INFO:tensorflow:loss = 0.69436496, step = 2100 (0.177 sec)\n",
            "INFO:tensorflow:global_step/sec: 571.262\n",
            "INFO:tensorflow:loss = 0.68673897, step = 2200 (0.172 sec)\n",
            "INFO:tensorflow:global_step/sec: 605.118\n",
            "INFO:tensorflow:loss = 0.6838907, step = 2300 (0.168 sec)\n",
            "INFO:tensorflow:global_step/sec: 603.101\n",
            "INFO:tensorflow:loss = 0.6727046, step = 2400 (0.163 sec)\n",
            "INFO:tensorflow:global_step/sec: 630.071\n",
            "INFO:tensorflow:loss = 0.6560093, step = 2500 (0.159 sec)\n",
            "INFO:tensorflow:global_step/sec: 621.056\n",
            "INFO:tensorflow:loss = 0.64889437, step = 2600 (0.163 sec)\n",
            "INFO:tensorflow:global_step/sec: 552.291\n",
            "INFO:tensorflow:loss = 0.637609, step = 2700 (0.180 sec)\n",
            "INFO:tensorflow:global_step/sec: 603.929\n",
            "INFO:tensorflow:loss = 0.63428265, step = 2800 (0.166 sec)\n",
            "INFO:tensorflow:global_step/sec: 618.54\n",
            "INFO:tensorflow:loss = 0.6187927, step = 2900 (0.161 sec)\n",
            "INFO:tensorflow:global_step/sec: 573.533\n",
            "INFO:tensorflow:loss = 0.61548215, step = 3000 (0.176 sec)\n",
            "INFO:tensorflow:global_step/sec: 595.671\n",
            "INFO:tensorflow:loss = 0.60353255, step = 3100 (0.165 sec)\n",
            "INFO:tensorflow:global_step/sec: 620.808\n",
            "INFO:tensorflow:loss = 0.5961306, step = 3200 (0.164 sec)\n",
            "INFO:tensorflow:global_step/sec: 587.713\n",
            "INFO:tensorflow:loss = 0.58863634, step = 3300 (0.167 sec)\n",
            "INFO:tensorflow:global_step/sec: 550.424\n",
            "INFO:tensorflow:loss = 0.5838326, step = 3400 (0.184 sec)\n",
            "INFO:tensorflow:global_step/sec: 633.65\n",
            "INFO:tensorflow:loss = 0.57791454, step = 3500 (0.157 sec)\n",
            "INFO:tensorflow:global_step/sec: 509.892\n",
            "INFO:tensorflow:loss = 0.56333023, step = 3600 (0.194 sec)\n",
            "INFO:tensorflow:global_step/sec: 631.615\n",
            "INFO:tensorflow:loss = 0.5641042, step = 3700 (0.161 sec)\n",
            "INFO:tensorflow:global_step/sec: 616.462\n",
            "INFO:tensorflow:loss = 0.55498874, step = 3800 (0.162 sec)\n",
            "INFO:tensorflow:global_step/sec: 622.81\n",
            "INFO:tensorflow:loss = 0.5439503, step = 3900 (0.162 sec)\n",
            "INFO:tensorflow:global_step/sec: 547.472\n",
            "INFO:tensorflow:loss = 0.5328585, step = 4000 (0.182 sec)\n",
            "INFO:tensorflow:global_step/sec: 613.946\n",
            "INFO:tensorflow:loss = 0.51357305, step = 4100 (0.163 sec)\n",
            "INFO:tensorflow:global_step/sec: 637.631\n",
            "INFO:tensorflow:loss = 0.52722776, step = 4200 (0.154 sec)\n",
            "INFO:tensorflow:global_step/sec: 616.371\n",
            "INFO:tensorflow:loss = 0.52279925, step = 4300 (0.165 sec)\n",
            "INFO:tensorflow:global_step/sec: 611.981\n",
            "INFO:tensorflow:loss = 0.5078201, step = 4400 (0.164 sec)\n",
            "INFO:tensorflow:global_step/sec: 602.19\n",
            "INFO:tensorflow:loss = 0.49965313, step = 4500 (0.164 sec)\n",
            "INFO:tensorflow:global_step/sec: 562.083\n",
            "INFO:tensorflow:loss = 0.5014753, step = 4600 (0.178 sec)\n",
            "INFO:tensorflow:global_step/sec: 537.986\n",
            "INFO:tensorflow:loss = 0.4877627, step = 4700 (0.185 sec)\n",
            "INFO:tensorflow:global_step/sec: 574.583\n",
            "INFO:tensorflow:loss = 0.4905377, step = 4800 (0.176 sec)\n",
            "INFO:tensorflow:global_step/sec: 572.905\n",
            "INFO:tensorflow:loss = 0.4874208, step = 4900 (0.172 sec)\n",
            "INFO:tensorflow:Calling checkpoint listeners before saving checkpoint 5000...\n",
            "INFO:tensorflow:Saving checkpoints for 5000 into /tmp/tmp1oxhvfx9/model.ckpt.\n",
            "INFO:tensorflow:Calling checkpoint listeners after saving checkpoint 5000...\n",
            "INFO:tensorflow:Loss for final step: 0.470909.\n"
          ],
          "name": "stdout"
        },
        {
          "output_type": "execute_result",
          "data": {
            "text/plain": [
              "<tensorflow_estimator.python.estimator.canned.dnn.DNNClassifierV2 at 0x7fabb8b4bdd8>"
            ]
          },
          "metadata": {
            "tags": []
          },
          "execution_count": 20
        }
      ]
    },
    {
      "cell_type": "code",
      "metadata": {
        "id": "-v94D9s9bZmo",
        "outputId": "d6108591-3673-4738-e526-49f7de390b98",
        "colab": {
          "base_uri": "https://localhost:8080/",
          "height": 377
        }
      },
      "source": [
        "# evaluates/tests the model\n",
        "eval_result = classifier.evaluate(input_fn=lambda: input_fn(test, test_y, training = False))\n",
        "print('\\nTest set accuracy: {accuracy:0.3f}\\n'.format(**eval_result))"
      ],
      "execution_count": null,
      "outputs": [
        {
          "output_type": "stream",
          "text": [
            "INFO:tensorflow:Calling model_fn.\n",
            "WARNING:tensorflow:Layer dnn is casting an input tensor from dtype float64 to the layer's dtype of float32, which is new behavior in TensorFlow 2.  The layer has dtype float32 because its dtype defaults to floatx.\n",
            "\n",
            "If you intended to run this layer in float32, you can safely ignore this warning. If in doubt, this warning is likely only an issue if you are porting a TensorFlow 1.X model to TensorFlow 2.\n",
            "\n",
            "To change all layers to have dtype float64 by default, call `tf.keras.backend.set_floatx('float64')`. To change just this layer, pass dtype='float64' to the layer constructor. If you are the author of this layer, you can disable autocasting by passing autocast=False to the base Layer constructor.\n",
            "\n",
            "INFO:tensorflow:Done calling model_fn.\n",
            "INFO:tensorflow:Starting evaluation at 2020-09-28T16:00:13Z\n",
            "INFO:tensorflow:Graph was finalized.\n",
            "INFO:tensorflow:Restoring parameters from /tmp/tmp1oxhvfx9/model.ckpt-5000\n",
            "INFO:tensorflow:Running local_init_op.\n",
            "INFO:tensorflow:Done running local_init_op.\n",
            "INFO:tensorflow:Inference Time : 0.20617s\n",
            "INFO:tensorflow:Finished evaluation at 2020-09-28-16:00:13\n",
            "INFO:tensorflow:Saving dict for global step 5000: accuracy = 0.8666667, average_loss = 0.54251164, global_step = 5000, loss = 0.54251164\n",
            "INFO:tensorflow:Saving 'checkpoint_path' summary for global step 5000: /tmp/tmp1oxhvfx9/model.ckpt-5000\n",
            "\n",
            "Test set accuracy: 0.867\n",
            "\n"
          ],
          "name": "stdout"
        }
      ]
    },
    {
      "cell_type": "code",
      "metadata": {
        "id": "R6tXmNUNcb3y",
        "outputId": "1c59da56-7c02-49f8-d218-27cd048eaa9d",
        "colab": {
          "base_uri": "https://localhost:8080/",
          "height": 221
        }
      },
      "source": [
        "def input_fn(features, batch_size=256):\n",
        "    # Convert the inputs to a Dataset without labels.\n",
        "    return tf.data.Dataset.from_tensor_slices(dict(features)).batch(batch_size)\n",
        "\n",
        "features = ['SepalLength', 'SepalWidth', 'PetalLength', 'PetalWidth']\n",
        "predict = {}\n",
        "\n",
        "print(\"Please type numeric values as prompted.\")\n",
        "for feature in features:\n",
        "  valid = True\n",
        "  while valid:\n",
        "    val = input(feature + \": \")\n",
        "    if not val.isdigit(): valid = False\n",
        "\n",
        "  predict[feature] = [float(val)]\n",
        "\n",
        "predictions = classifier.predict(input_fn=lambda: input_fn(predict))\n",
        "for pred_dict in predictions:\n",
        "    class_id = pred_dict['class_ids'][0]\n",
        "    probability = pred_dict['probabilities'][class_id]\n",
        "\n",
        "    print('Prediction is \"{}\" ({:.1f}%)'.format(\n",
        "        SPECIES[class_id], 100 * probability))\n"
      ],
      "execution_count": null,
      "outputs": [
        {
          "output_type": "stream",
          "text": [
            "Please type numeric values as prompted.\n",
            "SepalLength: 1.2\n",
            "SepalWidth: 2.4\n",
            "PetalLength: 3.2\n",
            "PetalWidth: 4.3\n",
            "INFO:tensorflow:Calling model_fn.\n",
            "INFO:tensorflow:Done calling model_fn.\n",
            "INFO:tensorflow:Graph was finalized.\n",
            "INFO:tensorflow:Restoring parameters from /tmp/tmp1oxhvfx9/model.ckpt-5000\n",
            "INFO:tensorflow:Running local_init_op.\n",
            "INFO:tensorflow:Done running local_init_op.\n",
            "Prediction is \"Virginica\" (94.8%)\n"
          ],
          "name": "stdout"
        }
      ]
    }
  ]
}